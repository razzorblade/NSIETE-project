{
 "cells": [
  {
   "cell_type": "markdown",
   "metadata": {},
   "source": [
    "# Project Proposal - Denoising photos\n",
    "### Enrik Hepner, Ján Hajzok\n",
    "\n",
    "#### Motivation\n",
    "Our motivation for this project is the fact that a neural network could be trained to remove some types of noises and it would be very interesting to observe how it will handle type of noises it did not see yet. Our idea came from our experience with noised and damaged photos, which could be repaired and fixed. It is a very interesting field of research and we are looking forward to work with convolutional neural networks. \n",
    "\n",
    "\n",
    "#### Related Work\n",
    "We have been looking for a similar works as ours and the best result we have found are below:\n",
    "* In this article authors had reached a rather good results in image reconstruction from the noised images. They had tried many examples of noise and filters to achieve best results.  \n",
    "Link:https://ieeexplore.ieee.org/abstract/document/6247952\n",
    "\n",
    "\n",
    "\n",
    "- In this article author had compared even more methods of denoising.  \n",
    "Link:https://papers.nips.cc/paper/4686-image-denoising-and-inpainting-with-deep-neural-networks.pdf\n",
    "\n",
    "\n",
    "#### Datasets\n",
    "There are large databases of image files online. We need two versions of the image, however, the second version which is noised will be created by our algorithm that will add a noise to a default image from the dataset. In case of experimenting with resizing of the image, we need only default one from the image dataset and we can generate the version with artifacts by algorithm.\n",
    "\n",
    "Possible datasets:\n",
    "* Caltech101: http://www.vision.caltech.edu/Image_Datasets/Caltech101/\n",
    "* LSUN Dataset: https://github.com/fyu/lsun\n",
    "\n",
    "\n",
    "#### High-Level Solution Proposal\n",
    "We do not know what architecture we will use yet. Our main idea is to do experiments in which we will test different types of noises/artifacts (Gauss, Poisson, Salt&Pepper, artifacts from resizing (quantization), etc) and in which we will observe if a network can handle other types of noises or artifacts it did not see yet.\n"
   ]
  },
  {
   "cell_type": "code",
   "execution_count": null,
   "metadata": {},
   "outputs": [],
   "source": []
  }
 ],
 "metadata": {
  "kernelspec": {
   "display_name": "Python 3",
   "language": "python",
   "name": "python3"
  },
  "language_info": {
   "codemirror_mode": {
    "name": "ipython",
    "version": 3
   },
   "file_extension": ".py",
   "mimetype": "text/x-python",
   "name": "python",
   "nbconvert_exporter": "python",
   "pygments_lexer": "ipython3",
   "version": "3.7.3"
  }
 },
 "nbformat": 4,
 "nbformat_minor": 2
}
