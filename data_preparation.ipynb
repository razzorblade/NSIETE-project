{
 "cells": [
  {
   "cell_type": "code",
   "execution_count": 1,
   "metadata": {},
   "outputs": [],
   "source": [
    "import sys\n",
    "import matplotlib.pyplot as plt\n",
    "import numpy as np\n",
    "import random, os\n",
    "import cv2\n",
    "from skimage.exposure import rescale_intensity\n",
    "from skimage import data, color\n",
    "from skimage.transform import rescale, resize, downscale_local_mean\n",
    "from scipy import ndimage\n",
    "from scipy import misc as sm\n",
    "from os import listdir\n",
    "from os.path import isfile, join\n",
    "from skimage.draw import random_shapes\n",
    "from zipfile import * \n",
    "sys.path.append('..')"
   ]
  },
  {
   "cell_type": "code",
   "execution_count": 2,
   "metadata": {},
   "outputs": [],
   "source": [
    "random.seed();\n",
    "n=5000          #number of images to load\n",
    "img_scale = 128   #scale of the images\n",
    "downscale_dim = 32\n",
    "resize_output_orig= f\"./noise_generation/artifacts_orig/\"      #where to save images\n",
    "resize_output_artifact= f\"./noise_generation/artifacts_changed/\"      #where to save changed images\n"
   ]
  },
  {
   "cell_type": "code",
   "execution_count": 12,
   "metadata": {},
   "outputs": [],
   "source": [
    "def recursive_files(dir):\n",
    "    \"\"\"Used to recursively iterate through all files in specified dir\"\"\"\n",
    "    files = []\n",
    "    for r, d, f in os.walk(dir):\n",
    "        for file in f:\n",
    "                files.append(os.path.join(r, file))\n",
    "    return files\n",
    "\n",
    "def generate_data(amount, img_scale, dataset_dir, output_orig_dir, output_augmented_dir, process_function):\n",
    "    \"\"\"Generates new data using process_function. New data is loaded as img_scale x img_scale image,\n",
    "         process_function is called on each of these images specified by dataset_dir. Output is split to\n",
    "         output_orig_dir (original files) and output_augmented_dir (processed files).\n",
    "    \"\"\"\n",
    "    rfiles = recursive_files(dataset_dir)\n",
    "\n",
    "    for iteration in range(amount):\n",
    "        rfile = rfiles[iteration]\n",
    "\n",
    "        img = cv2.imread(rfile)\n",
    "        img = resize(img, (img_scale, img_scale), anti_aliasing=True)\n",
    "\n",
    "        img = np.float32(img)\n",
    "\n",
    "        changed = process_function(img)\n",
    "\n",
    "        r_parts = rfile.split('/')\n",
    "        r_end = r_parts[len(r_parts)-1]\n",
    "        no_suffix = r_end.split('.')[0]\n",
    "\n",
    "        cv2.imwrite(f\"{output_orig_dir}{no_suffix}.jpg\", img*256)\n",
    "        cv2.imwrite(f\"{output_augmented_dir}{no_suffix}.jpg\", changed*256)\n",
    "\n",
    "        #print(f\"[{iteration+1}/{amount}] {rfile} -> \", f\"{output_orig_dir}{no_suffix}.jpg\")\n",
    "        #print(f\"[{iteration+1}/{amount}] {rfile} -> \", f\"{output_augmented_dir}{no_suffix}.jpg\\n\")"
   ]
  },
  {
   "cell_type": "code",
   "execution_count": 13,
   "metadata": {},
   "outputs": [
    {
     "ename": "ValueError",
     "evalue": "could not broadcast input array from shape (12,12,3) into shape (11,12,3)",
     "output_type": "error",
     "traceback": [
      "\u001b[1;31m---------------------------------------------------------------------------\u001b[0m",
      "\u001b[1;31mValueError\u001b[0m                                Traceback (most recent call last)",
      "\u001b[1;32m<ipython-input-13-911dd22abb9c>\u001b[0m in \u001b[0;36m<module>\u001b[1;34m\u001b[0m\n\u001b[0;32m     26\u001b[0m \u001b[0mimg_scale\u001b[0m \u001b[1;33m=\u001b[0m \u001b[1;36m128\u001b[0m   \u001b[1;31m#scale of images\u001b[0m\u001b[1;33m\u001b[0m\u001b[0m\n\u001b[0;32m     27\u001b[0m \u001b[1;33m\u001b[0m\u001b[0m\n\u001b[1;32m---> 28\u001b[1;33m \u001b[0mgenerate_data\u001b[0m\u001b[1;33m(\u001b[0m\u001b[1;36m5000\u001b[0m\u001b[1;33m,\u001b[0m \u001b[0mimg_scale\u001b[0m\u001b[1;33m,\u001b[0m \u001b[0mdataset_path\u001b[0m\u001b[1;33m,\u001b[0m \u001b[0moutput_orig\u001b[0m\u001b[1;33m,\u001b[0m \u001b[0moutput_artifact\u001b[0m\u001b[1;33m,\u001b[0m \u001b[0mapply_artifacts\u001b[0m\u001b[1;33m)\u001b[0m\u001b[1;33m\u001b[0m\u001b[0m\n\u001b[0m",
      "\u001b[1;32m<ipython-input-12-0e9a81b716a8>\u001b[0m in \u001b[0;36mgenerate_data\u001b[1;34m(amount, img_scale, dataset_dir, output_orig_dir, output_augmented_dir, process_function)\u001b[0m\n\u001b[0;32m     22\u001b[0m         \u001b[0mimg\u001b[0m \u001b[1;33m=\u001b[0m \u001b[0mnp\u001b[0m\u001b[1;33m.\u001b[0m\u001b[0mfloat32\u001b[0m\u001b[1;33m(\u001b[0m\u001b[0mimg\u001b[0m\u001b[1;33m)\u001b[0m\u001b[1;33m\u001b[0m\u001b[0m\n\u001b[0;32m     23\u001b[0m \u001b[1;33m\u001b[0m\u001b[0m\n\u001b[1;32m---> 24\u001b[1;33m         \u001b[0mchanged\u001b[0m \u001b[1;33m=\u001b[0m \u001b[0mprocess_function\u001b[0m\u001b[1;33m(\u001b[0m\u001b[0mimg\u001b[0m\u001b[1;33m)\u001b[0m\u001b[1;33m\u001b[0m\u001b[0m\n\u001b[0m\u001b[0;32m     25\u001b[0m \u001b[1;33m\u001b[0m\u001b[0m\n\u001b[0;32m     26\u001b[0m         \u001b[0mr_parts\u001b[0m \u001b[1;33m=\u001b[0m \u001b[0mrfile\u001b[0m\u001b[1;33m.\u001b[0m\u001b[0msplit\u001b[0m\u001b[1;33m(\u001b[0m\u001b[1;34m'/'\u001b[0m\u001b[1;33m)\u001b[0m\u001b[1;33m\u001b[0m\u001b[0m\n",
      "\u001b[1;32m<ipython-input-13-911dd22abb9c>\u001b[0m in \u001b[0;36mapply_artifacts\u001b[1;34m(img)\u001b[0m\n\u001b[0;32m     17\u001b[0m     \u001b[0mnumber_of_artifacts\u001b[0m \u001b[1;33m=\u001b[0m \u001b[0mrandom\u001b[0m\u001b[1;33m.\u001b[0m\u001b[0mrandint\u001b[0m\u001b[1;33m(\u001b[0m\u001b[1;36m3\u001b[0m\u001b[1;33m,\u001b[0m \u001b[1;36m7\u001b[0m\u001b[1;33m)\u001b[0m\u001b[1;33m\u001b[0m\u001b[0m\n\u001b[0;32m     18\u001b[0m     \u001b[1;32mfor\u001b[0m \u001b[0mi\u001b[0m \u001b[1;32min\u001b[0m \u001b[0mrange\u001b[0m\u001b[1;33m(\u001b[0m\u001b[0mnumber_of_artifacts\u001b[0m\u001b[1;33m)\u001b[0m\u001b[1;33m:\u001b[0m\u001b[1;33m\u001b[0m\u001b[0m\n\u001b[1;32m---> 19\u001b[1;33m         \u001b[0mimg\u001b[0m \u001b[1;33m=\u001b[0m \u001b[0madd_artifact\u001b[0m\u001b[1;33m(\u001b[0m\u001b[0mimg\u001b[0m\u001b[1;33m)\u001b[0m\u001b[1;33m\u001b[0m\u001b[0m\n\u001b[0m\u001b[0;32m     20\u001b[0m \u001b[1;33m\u001b[0m\u001b[0m\n\u001b[0;32m     21\u001b[0m     \u001b[1;32mreturn\u001b[0m \u001b[0mimg\u001b[0m\u001b[1;33m\u001b[0m\u001b[0m\n",
      "\u001b[1;32m<ipython-input-13-911dd22abb9c>\u001b[0m in \u001b[0;36madd_artifact\u001b[1;34m(img)\u001b[0m\n\u001b[0;32m      5\u001b[0m     \u001b[0my_offset\u001b[0m\u001b[1;33m=\u001b[0m\u001b[0mnp\u001b[0m\u001b[1;33m.\u001b[0m\u001b[0mrandom\u001b[0m\u001b[1;33m.\u001b[0m\u001b[0mrandint\u001b[0m\u001b[1;33m(\u001b[0m\u001b[1;36m0\u001b[0m\u001b[1;33m,\u001b[0m \u001b[0mimg\u001b[0m\u001b[1;33m.\u001b[0m\u001b[0mshape\u001b[0m\u001b[1;33m[\u001b[0m\u001b[1;36m0\u001b[0m\u001b[1;33m]\u001b[0m\u001b[1;33m-\u001b[0m\u001b[1;36m10\u001b[0m\u001b[1;33m)\u001b[0m\u001b[1;33m\u001b[0m\u001b[0m\n\u001b[0;32m      6\u001b[0m     \u001b[0mnew_img\u001b[0m \u001b[1;33m=\u001b[0m \u001b[0mnp\u001b[0m\u001b[1;33m.\u001b[0m\u001b[0mcopy\u001b[0m\u001b[1;33m(\u001b[0m\u001b[0mimg\u001b[0m\u001b[1;33m)\u001b[0m\u001b[1;33m\u001b[0m\u001b[0m\n\u001b[1;32m----> 7\u001b[1;33m     \u001b[0mnew_img\u001b[0m\u001b[1;33m[\u001b[0m\u001b[0my_offset\u001b[0m\u001b[1;33m:\u001b[0m\u001b[0my_offset\u001b[0m\u001b[1;33m+\u001b[0m\u001b[0mres\u001b[0m\u001b[1;33m.\u001b[0m\u001b[0mshape\u001b[0m\u001b[1;33m[\u001b[0m\u001b[1;36m0\u001b[0m\u001b[1;33m]\u001b[0m\u001b[1;33m,\u001b[0m \u001b[0mx_offset\u001b[0m\u001b[1;33m:\u001b[0m\u001b[0mx_offset\u001b[0m\u001b[1;33m+\u001b[0m\u001b[0mres\u001b[0m\u001b[1;33m.\u001b[0m\u001b[0mshape\u001b[0m\u001b[1;33m[\u001b[0m\u001b[1;36m1\u001b[0m\u001b[1;33m]\u001b[0m\u001b[1;33m]\u001b[0m \u001b[1;33m=\u001b[0m \u001b[0mres\u001b[0m\u001b[1;33m*\u001b[0m\u001b[1;36m0\u001b[0m\u001b[1;33m\u001b[0m\u001b[0m\n\u001b[0m\u001b[0;32m      8\u001b[0m     \u001b[1;32mreturn\u001b[0m \u001b[0mnew_img\u001b[0m\u001b[1;33m\u001b[0m\u001b[0m\n\u001b[0;32m      9\u001b[0m \u001b[1;33m\u001b[0m\u001b[0m\n",
      "\u001b[1;31mValueError\u001b[0m: could not broadcast input array from shape (12,12,3) into shape (11,12,3)"
     ]
    }
   ],
   "source": [
    "def add_artifact(img):\n",
    "    size = random.randint(8,13)\n",
    "    res, labels = random_shapes((size, size), max_shapes=1, shape='rectangle',multichannel=True)\n",
    "    x_offset=np.random.randint(0, img.shape[0]-10)\n",
    "    y_offset=np.random.randint(0, img.shape[0]-10)\n",
    "    new_img = np.copy(img)\n",
    "    new_img[y_offset:y_offset+res.shape[0], x_offset:x_offset+res.shape[1]] = res*0\n",
    "    return new_img\n",
    "\n",
    "def apply_noise(img):\n",
    "    new_img = np.copy(img)\n",
    "    noise_factor = 0.1\n",
    "    new_img = new_img + noise_factor * np.random.normal(loc=0.0, scale=1.0, size=new_img.shape)\n",
    "    return new_img\n",
    "\n",
    "def apply_artifacts(img):\n",
    "    number_of_artifacts = random.randint(3, 7)\n",
    "    for i in range(number_of_artifacts):\n",
    "        img = add_artifact(img)\n",
    "        \n",
    "    return img\n",
    "\n",
    "output_orig= f\"./noise_generation/artifacts/artifacts_orig/\"             #where to save images\n",
    "output_artifact= f\"./noise_generation/artifacts/artifacts_changed/\"      #where to save changed images\n",
    "dataset_path = \"./noise_generation/artifacts/artifacts_orig/\"\n",
    "img_scale = 128   #scale of images\n",
    "\n",
    "generate_data(5000, img_scale, dataset_path, output_orig, output_artifact, apply_artifacts)"
   ]
  },
  {
   "cell_type": "code",
   "execution_count": null,
   "metadata": {},
   "outputs": [],
   "source": []
  }
 ],
 "metadata": {
  "kernelspec": {
   "display_name": "Python 3",
   "language": "python",
   "name": "python3"
  },
  "language_info": {
   "codemirror_mode": {
    "name": "ipython",
    "version": 3
   },
   "file_extension": ".py",
   "mimetype": "text/x-python",
   "name": "python",
   "nbconvert_exporter": "python",
   "pygments_lexer": "ipython3",
   "version": "3.6.0"
  }
 },
 "nbformat": 4,
 "nbformat_minor": 2
}
